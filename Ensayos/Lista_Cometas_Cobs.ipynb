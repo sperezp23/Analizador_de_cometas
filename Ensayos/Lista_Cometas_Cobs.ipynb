{
 "cells": [
  {
   "cell_type": "code",
   "execution_count": 20,
   "metadata": {},
   "outputs": [],
   "source": [
    "# Librerías\n",
    "import requests\n",
    "import pandas as pd"
   ]
  },
  {
   "cell_type": "code",
   "execution_count": 21,
   "metadata": {},
   "outputs": [],
   "source": [
    "# Verificar la conexión a internet.\n",
    "def verificar_conexion():\n",
    "    try:\n",
    "        requests.get(\"http://www.google.com\", timeout=5)\n",
    "        print('✅ Conectado a internet.')\n",
    "        return True\n",
    "    \n",
    "    except requests.ConnectionError:\n",
    "        print('🛑 Sin conexión a internet.')\n",
    "        return False"
   ]
  },
  {
   "cell_type": "code",
   "execution_count": 22,
   "metadata": {},
   "outputs": [
    {
     "name": "stdout",
     "output_type": "stream",
     "text": [
      "✅ Conectado a internet.\n",
      "✅ Base de datos actualizada.\n"
     ]
    }
   ],
   "source": [
    "# Conexión con la API de COBS\n",
    "\n",
    "Link_cops_API = 'https://cobs.si/api/comet_list.api'\n",
    "\n",
    "if verificar_conexion():\n",
    "    response = requests.get(Link_cops_API)\n",
    "\n",
    "\n",
    "if response.status_code == 200:\n",
    "    content = response.json()\n",
    "    print('✅ Base de datos actualizada.')\n",
    "\n",
    "else:\n",
    "    print(f'🛑 Se presentó un error al cargar la base de datos.\\nError: {response.status_code}\\n{response.content}')"
   ]
  },
  {
   "cell_type": "code",
   "execution_count": 23,
   "metadata": {},
   "outputs": [
    {
     "data": {
      "text/html": [
       "<div>\n",
       "<style scoped>\n",
       "    .dataframe tbody tr th:only-of-type {\n",
       "        vertical-align: middle;\n",
       "    }\n",
       "\n",
       "    .dataframe tbody tr th {\n",
       "        vertical-align: top;\n",
       "    }\n",
       "\n",
       "    .dataframe thead th {\n",
       "        text-align: right;\n",
       "    }\n",
       "</style>\n",
       "<table border=\"1\" class=\"dataframe\">\n",
       "  <thead>\n",
       "    <tr style=\"text-align: right;\">\n",
       "      <th></th>\n",
       "      <th>id</th>\n",
       "      <th>type</th>\n",
       "      <th>name</th>\n",
       "      <th>fullname</th>\n",
       "      <th>mpc_name</th>\n",
       "      <th>icq_name</th>\n",
       "      <th>component</th>\n",
       "      <th>current_mag</th>\n",
       "      <th>perihelion_date</th>\n",
       "      <th>perihelion_mag</th>\n",
       "      <th>peak_mag</th>\n",
       "      <th>peak_mag_date</th>\n",
       "      <th>is_observed</th>\n",
       "      <th>is_active</th>\n",
       "    </tr>\n",
       "  </thead>\n",
       "  <tbody>\n",
       "    <tr>\n",
       "      <th>0</th>\n",
       "      <td>1</td>\n",
       "      <td>N</td>\n",
       "      <td>P/2010 H2</td>\n",
       "      <td>P/2010 H2 (Vales)</td>\n",
       "      <td>K10H020</td>\n",
       "      <td>P2010H2</td>\n",
       "      <td>None</td>\n",
       "      <td>14.0</td>\n",
       "      <td>2025-03-09 15:44</td>\n",
       "      <td>12.6</td>\n",
       "      <td>12.5</td>\n",
       "      <td>2025-04-09</td>\n",
       "      <td>True</td>\n",
       "      <td>True</td>\n",
       "    </tr>\n",
       "    <tr>\n",
       "      <th>1</th>\n",
       "      <td>2</td>\n",
       "      <td>C</td>\n",
       "      <td>C/2014 UN271</td>\n",
       "      <td>C/2014 UN271 (Bernardinelli-Bernstein)</td>\n",
       "      <td>K14UR1N</td>\n",
       "      <td>2014UNR1</td>\n",
       "      <td>None</td>\n",
       "      <td>18.1</td>\n",
       "      <td>2031-01-17 03:51</td>\n",
       "      <td>16.0</td>\n",
       "      <td>15.8</td>\n",
       "      <td>2031-04-04</td>\n",
       "      <td>True</td>\n",
       "      <td>True</td>\n",
       "    </tr>\n",
       "    <tr>\n",
       "      <th>2</th>\n",
       "      <td>3</td>\n",
       "      <td>C</td>\n",
       "      <td>C/2020 PV6</td>\n",
       "      <td>C/2020 PV6 (PANSTARRS)</td>\n",
       "      <td>K20P06V</td>\n",
       "      <td>2020PV6</td>\n",
       "      <td>None</td>\n",
       "      <td>24.9</td>\n",
       "      <td>2021-09-26 01:47</td>\n",
       "      <td>15.6</td>\n",
       "      <td>14.9</td>\n",
       "      <td>2021-08-05</td>\n",
       "      <td>True</td>\n",
       "      <td>True</td>\n",
       "    </tr>\n",
       "    <tr>\n",
       "      <th>3</th>\n",
       "      <td>4</td>\n",
       "      <td>A</td>\n",
       "      <td>A/2021 E4</td>\n",
       "      <td>A/2021 E4</td>\n",
       "      <td>K21E040</td>\n",
       "      <td>A2021E4</td>\n",
       "      <td>None</td>\n",
       "      <td>22.4</td>\n",
       "      <td>2022-04-24 21:51</td>\n",
       "      <td>20.1</td>\n",
       "      <td>19.8</td>\n",
       "      <td>2022-02-21</td>\n",
       "      <td>False</td>\n",
       "      <td>True</td>\n",
       "    </tr>\n",
       "    <tr>\n",
       "      <th>4</th>\n",
       "      <td>6</td>\n",
       "      <td>C</td>\n",
       "      <td>C/2021 G3</td>\n",
       "      <td>C/2021 G3 (PANSTARRS)</td>\n",
       "      <td>K21G030</td>\n",
       "      <td>2021G3</td>\n",
       "      <td>None</td>\n",
       "      <td>24.9</td>\n",
       "      <td>2021-10-17 20:18</td>\n",
       "      <td>21.4</td>\n",
       "      <td>20.9</td>\n",
       "      <td>2022-01-31</td>\n",
       "      <td>False</td>\n",
       "      <td>True</td>\n",
       "    </tr>\n",
       "    <tr>\n",
       "      <th>...</th>\n",
       "      <td>...</td>\n",
       "      <td>...</td>\n",
       "      <td>...</td>\n",
       "      <td>...</td>\n",
       "      <td>...</td>\n",
       "      <td>...</td>\n",
       "      <td>...</td>\n",
       "      <td>...</td>\n",
       "      <td>...</td>\n",
       "      <td>...</td>\n",
       "      <td>...</td>\n",
       "      <td>...</td>\n",
       "      <td>...</td>\n",
       "      <td>...</td>\n",
       "    </tr>\n",
       "    <tr>\n",
       "      <th>2228</th>\n",
       "      <td>2562</td>\n",
       "      <td>N</td>\n",
       "      <td>P/2024 R3</td>\n",
       "      <td>P/2024 R3 (PANSTARRS)</td>\n",
       "      <td>K24R030</td>\n",
       "      <td>P2024R3</td>\n",
       "      <td>None</td>\n",
       "      <td>20.0</td>\n",
       "      <td>2024-05-17 00:25</td>\n",
       "      <td>21.1</td>\n",
       "      <td>19.9</td>\n",
       "      <td>2024-10-11</td>\n",
       "      <td>False</td>\n",
       "      <td>True</td>\n",
       "    </tr>\n",
       "    <tr>\n",
       "      <th>2229</th>\n",
       "      <td>2563</td>\n",
       "      <td>C</td>\n",
       "      <td>C/2024 R4</td>\n",
       "      <td>C/2024 R4 (PANSTARRS)</td>\n",
       "      <td>K24R040</td>\n",
       "      <td>2024R4</td>\n",
       "      <td>None</td>\n",
       "      <td>20.9</td>\n",
       "      <td>2027-10-26 12:38</td>\n",
       "      <td>16.3</td>\n",
       "      <td>16.1</td>\n",
       "      <td>2028-02-29</td>\n",
       "      <td>False</td>\n",
       "      <td>True</td>\n",
       "    </tr>\n",
       "    <tr>\n",
       "      <th>2230</th>\n",
       "      <td>2564</td>\n",
       "      <td>P</td>\n",
       "      <td>484P</td>\n",
       "      <td>484P/Spacewatch</td>\n",
       "      <td>484P</td>\n",
       "      <td>0484</td>\n",
       "      <td>None</td>\n",
       "      <td>26.6</td>\n",
       "      <td>2028-03-10 22:56</td>\n",
       "      <td>19.9</td>\n",
       "      <td>19.7</td>\n",
       "      <td>2028-02-08</td>\n",
       "      <td>False</td>\n",
       "      <td>True</td>\n",
       "    </tr>\n",
       "    <tr>\n",
       "      <th>2231</th>\n",
       "      <td>2565</td>\n",
       "      <td>P</td>\n",
       "      <td>485P</td>\n",
       "      <td>485P/Sheppard-Tholen</td>\n",
       "      <td>485P</td>\n",
       "      <td>0485</td>\n",
       "      <td>None</td>\n",
       "      <td>23.2</td>\n",
       "      <td>2023-08-24 20:11</td>\n",
       "      <td>22.4</td>\n",
       "      <td>21.5</td>\n",
       "      <td>2024-01-11</td>\n",
       "      <td>False</td>\n",
       "      <td>True</td>\n",
       "    </tr>\n",
       "    <tr>\n",
       "      <th>2232</th>\n",
       "      <td>2566</td>\n",
       "      <td>P</td>\n",
       "      <td>486P</td>\n",
       "      <td>486P/Leonard</td>\n",
       "      <td>486P</td>\n",
       "      <td>0486</td>\n",
       "      <td>None</td>\n",
       "      <td>21.1</td>\n",
       "      <td>2025-04-03 20:26</td>\n",
       "      <td>20.5</td>\n",
       "      <td>19.5</td>\n",
       "      <td>2025-09-05</td>\n",
       "      <td>False</td>\n",
       "      <td>True</td>\n",
       "    </tr>\n",
       "  </tbody>\n",
       "</table>\n",
       "<p>2233 rows × 14 columns</p>\n",
       "</div>"
      ],
      "text/plain": [
       "        id type          name                                fullname  \\\n",
       "0        1    N     P/2010 H2                       P/2010 H2 (Vales)   \n",
       "1        2    C  C/2014 UN271  C/2014 UN271 (Bernardinelli-Bernstein)   \n",
       "2        3    C    C/2020 PV6                  C/2020 PV6 (PANSTARRS)   \n",
       "3        4    A     A/2021 E4                               A/2021 E4   \n",
       "4        6    C     C/2021 G3                   C/2021 G3 (PANSTARRS)   \n",
       "...    ...  ...           ...                                     ...   \n",
       "2228  2562    N     P/2024 R3                   P/2024 R3 (PANSTARRS)   \n",
       "2229  2563    C     C/2024 R4                   C/2024 R4 (PANSTARRS)   \n",
       "2230  2564    P          484P                         484P/Spacewatch   \n",
       "2231  2565    P          485P                    485P/Sheppard-Tholen   \n",
       "2232  2566    P          486P                            486P/Leonard   \n",
       "\n",
       "     mpc_name  icq_name component current_mag   perihelion_date  \\\n",
       "0     K10H020   P2010H2      None        14.0  2025-03-09 15:44   \n",
       "1     K14UR1N  2014UNR1      None        18.1  2031-01-17 03:51   \n",
       "2     K20P06V   2020PV6      None        24.9  2021-09-26 01:47   \n",
       "3     K21E040   A2021E4      None        22.4  2022-04-24 21:51   \n",
       "4     K21G030    2021G3      None        24.9  2021-10-17 20:18   \n",
       "...       ...       ...       ...         ...               ...   \n",
       "2228  K24R030   P2024R3      None        20.0  2024-05-17 00:25   \n",
       "2229  K24R040    2024R4      None        20.9  2027-10-26 12:38   \n",
       "2230     484P      0484      None        26.6  2028-03-10 22:56   \n",
       "2231     485P      0485      None        23.2  2023-08-24 20:11   \n",
       "2232     486P      0486      None        21.1  2025-04-03 20:26   \n",
       "\n",
       "     perihelion_mag peak_mag peak_mag_date  is_observed  is_active  \n",
       "0              12.6     12.5    2025-04-09         True       True  \n",
       "1              16.0     15.8    2031-04-04         True       True  \n",
       "2              15.6     14.9    2021-08-05         True       True  \n",
       "3              20.1     19.8    2022-02-21        False       True  \n",
       "4              21.4     20.9    2022-01-31        False       True  \n",
       "...             ...      ...           ...          ...        ...  \n",
       "2228           21.1     19.9    2024-10-11        False       True  \n",
       "2229           16.3     16.1    2028-02-29        False       True  \n",
       "2230           19.9     19.7    2028-02-08        False       True  \n",
       "2231           22.4     21.5    2024-01-11        False       True  \n",
       "2232           20.5     19.5    2025-09-05        False       True  \n",
       "\n",
       "[2233 rows x 14 columns]"
      ]
     },
     "execution_count": 23,
     "metadata": {},
     "output_type": "execute_result"
    }
   ],
   "source": [
    "cometas_df = pd.DataFrame(content['objects'])\n",
    "cometas_df"
   ]
  },
  {
   "cell_type": "code",
   "execution_count": 34,
   "metadata": {},
   "outputs": [
    {
     "data": {
      "text/plain": [
       "'1P'"
      ]
     },
     "execution_count": 34,
     "metadata": {},
     "output_type": "execute_result"
    }
   ],
   "source": [
    "lista_cometas_df = cometas_df[['name', 'fullname']]\n",
    "lista_cometas_df.name[lista_cometas_df.fullname.str.contains('Halley')].values[0]"
   ]
  },
  {
   "cell_type": "code",
   "execution_count": 44,
   "metadata": {},
   "outputs": [
    {
     "data": {
      "text/plain": [
       "False"
      ]
     },
     "execution_count": 44,
     "metadata": {},
     "output_type": "execute_result"
    }
   ],
   "source": [
    "'1P' not in lista_cometas_df['name'].to_list()"
   ]
  },
  {
   "cell_type": "code",
   "execution_count": 50,
   "metadata": {},
   "outputs": [
    {
     "data": {
      "text/plain": [
       "WindowsPath('Graficas/C/2023 A3.png')"
      ]
     },
     "execution_count": 50,
     "metadata": {},
     "output_type": "execute_result"
    }
   ],
   "source": [
    "from pathlib import Path\n",
    "\n",
    "titulo = 'C/2023 A3'\n",
    "\n",
    "Path('Graficas', f'{titulo}.png')"
   ]
  },
  {
   "cell_type": "code",
   "execution_count": 40,
   "metadata": {},
   "outputs": [
    {
     "data": {
      "text/plain": [
       "'Graficas\\\\C/2023 A3.png'"
      ]
     },
     "execution_count": 40,
     "metadata": {},
     "output_type": "execute_result"
    }
   ],
   "source": [
    "import os \n",
    "ruta = os.path.join('Graficas', 'C/2023 A3.png')\n",
    "ruta"
   ]
  },
  {
   "cell_type": "code",
   "execution_count": 46,
   "metadata": {},
   "outputs": [
    {
     "data": {
      "text/plain": [
       "('Graficas\\\\C/2023 A3.png', 'C/2023 A3.png')"
      ]
     },
     "execution_count": 46,
     "metadata": {},
     "output_type": "execute_result"
    }
   ],
   "source": [
    "ruta = os.path.join('Graficas', rf'{titulo}.png')\n",
    "ruta, rf'{titulo}.png'"
   ]
  },
  {
   "cell_type": "code",
   "execution_count": 20,
   "metadata": {},
   "outputs": [
    {
     "name": "stdout",
     "output_type": "stream",
     "text": [
      "2025-01-05\n"
     ]
    }
   ],
   "source": [
    "from datetime import date\n",
    "print(date.today())"
   ]
  },
  {
   "cell_type": "code",
   "execution_count": 25,
   "metadata": {},
   "outputs": [
    {
     "data": {
      "text/plain": [
       "713"
      ]
     },
     "execution_count": 25,
     "metadata": {},
     "output_type": "execute_result"
    }
   ],
   "source": [
    "from datetime import datetime\n",
    "\n",
    "date_time_str = \"2023-01-23\"\n",
    "date_time_object = datetime.strptime(date_time_str, \"%Y-%m-%d\").date()\n",
    "\n",
    "(date.today() -date_time_object).days"
   ]
  },
  {
   "cell_type": "code",
   "execution_count": 1,
   "metadata": {},
   "outputs": [
    {
     "name": "stdout",
     "output_type": "stream",
     "text": [
      "🛑 La fecha ingresada: 2026-01-01, Sobrepasa la fecha actual.\n"
     ]
    },
    {
     "data": {
      "text/plain": [
       "False"
      ]
     },
     "execution_count": 1,
     "metadata": {},
     "output_type": "execute_result"
    }
   ],
   "source": [
    "from datetime import datetime, date\n",
    "\n",
    "def verificar_fecha(fecha_inicial):\n",
    "    fecha_inicial_dt = datetime.strptime(fecha_inicial, \"%Y-%m-%d\").date()\n",
    "    dias = (date.today() - fecha_inicial_dt).days\n",
    "\n",
    "    if dias >= 0:\n",
    "        return True\n",
    "    \n",
    "    else:\n",
    "        print(f'🛑 La fecha ingresada: {fecha_inicial}, Sobrepasa la fecha actual.')\n",
    "        return False\n",
    "    \n",
    "\n",
    "verificar_fecha('2026-01-01')"
   ]
  },
  {
   "cell_type": "code",
   "execution_count": 5,
   "metadata": {},
   "outputs": [
    {
     "data": {
      "image/png": "[encoded data removed]",
      "text/plain": [
       "<Figure size 800x500 with 1 Axes>"
      ]
     },
     "metadata": {},
     "output_type": "display_data"
    }
   ],
   "source": [
    "import seaborn as sns\n",
    "import matplotlib.pyplot as plt\n",
    "import pandas as pd\n",
    "import numpy as np\n",
    "\n",
    "# Datos de ejemplo\n",
    "np.random.seed(0)\n",
    "df1 = pd.DataFrame({\"x\": np.linspace(0, 10, 50), \"y\": np.sin(np.linspace(0, 10, 50)) + np.random.normal(0, 0.1, 50)})\n",
    "df2 = pd.DataFrame({\"x\": np.linspace(0, 10, 50), \"y\": np.cos(np.linspace(0, 10, 50)) + np.random.normal(0, 0.1, 50)})\n",
    "\n",
    "# Crear figura\n",
    "fig, ax = plt.subplots(figsize=(8, 5))\n",
    "\n",
    "# Graficar ambos datasets en los mismos ejes\n",
    "sns.scatterplot(data=df1, x=\"x\", y=\"y\", ax=ax, label=\"Grupo A\", color=\"blue\")\n",
    "sns.scatterplot(data=df2, x=\"x\", y=\"y\", ax=ax, label=\"Grupo B\", color=\"red\")\n",
    "\n",
    "# Personalizar leyenda\n",
    "ax.legend()\n",
    "\n",
    "plt.show()\n"
   ]
  },
  {
   "cell_type": "code",
   "execution_count": 6,
   "metadata": {},
   "outputs": [
    {
     "data": {
      "image/png": "[encoded data removed]",
      "text/plain": [
       "<Figure size 800x500 with 1 Axes>"
      ]
     },
     "metadata": {},
     "output_type": "display_data"
    }
   ],
   "source": [
    "import seaborn as sns\n",
    "import matplotlib.pyplot as plt\n",
    "import pandas as pd\n",
    "import numpy as np\n",
    "\n",
    "# Datos\n",
    "x = np.linspace(0, 10, 50)\n",
    "df1 = pd.DataFrame({\"x\": x, \"y\": np.sin(x)})\n",
    "df2 = pd.DataFrame({\"x\": x, \"y\": np.cos(x)})\n",
    "\n",
    "fig, ax = plt.subplots(figsize=(8, 5))\n",
    "\n",
    "# \"Agregar trazas\" pasando el mismo ax\n",
    "sns.lineplot(data=df1, x=\"x\", y=\"y\", ax=ax, label=\"Seno\")\n",
    "sns.lineplot(data=df2, x=\"x\", y=\"y\", ax=ax, label=\"Coseno\")\n",
    "\n",
    "plt.legend()\n",
    "plt.show()\n"
   ]
  },
  {
   "cell_type": "code",
   "execution_count": 9,
   "metadata": {},
   "outputs": [
    {
     "data": {
      "image/png": "[encoded data removed]",
      "text/plain": [
       "<Figure size 800x500 with 1 Axes>"
      ]
     },
     "metadata": {},
     "output_type": "display_data"
    }
   ],
   "source": [
    "import seaborn as sns\n",
    "import matplotlib.pyplot as plt\n",
    "import pandas as pd\n",
    "import numpy as np\n",
    "\n",
    "# Dataset de ejemplo\n",
    "np.random.seed(0)\n",
    "df = pd.DataFrame({\n",
    "    \"x\": np.linspace(0, 10, 50),\n",
    "    \"col1\": np.sin(np.linspace(0, 10, 50)),\n",
    "    \"col2\": np.cos(np.linspace(0, 10, 50))\n",
    "})\n",
    "\n",
    "# Crear figura y ejes\n",
    "fig, ax = plt.subplots(figsize=(8, 5))\n",
    "\n",
    "# Graficar cada columna en el mismo eje\n",
    "sns.scatterplot(x=\"x\", y=\"col1\", data=df, ax=ax, label=\"Columna 1\", color=\"blue\")\n",
    "sns.scatterplot(x=\"x\", y=\"col2\", data=df, ax=ax, label=\"Columna 2\", color=\"red\")\n",
    "\n",
    "plt.legend()\n",
    "plt.show()\n"
   ]
  }
 ],
 "metadata": {
  "kernelspec": {
   "display_name": "Python 3",
   "language": "python",
   "name": "python3"
  },
  "language_info": {
   "codemirror_mode": {
    "name": "ipython",
    "version": 3
   },
   "file_extension": ".py",
   "mimetype": "text/x-python",
   "name": "python",
   "nbconvert_exporter": "python",
   "pygments_lexer": "ipython3",
   "version": "3.13.3"
  }
 },
 "nbformat": 4,
 "nbformat_minor": 2
}
